{
 "cells": [
  {
   "cell_type": "code",
   "execution_count": 1,
   "id": "2dea6bab",
   "metadata": {},
   "outputs": [],
   "source": [
    "import pandas as pd\n",
    "import numpy as np\n",
    "from scipy.stats import ttest_ind, chi2_contingency, f_oneway"
   ]
  },
  {
   "cell_type": "code",
   "execution_count": 3,
   "id": "4e4fb4de",
   "metadata": {},
   "outputs": [],
   "source": [
    "data = pd.read_csv('Titanic-Dataset.csv')"
   ]
  },
  {
   "cell_type": "code",
   "execution_count": 4,
   "id": "efd6ccb0",
   "metadata": {},
   "outputs": [],
   "source": [
    "male_survival = data[data['Sex'] == 'male']['Survived']\n",
    "female_survival = data[data['Sex'] == 'female']['Survived']"
   ]
  },
  {
   "cell_type": "code",
   "execution_count": 5,
   "id": "c86638cf",
   "metadata": {},
   "outputs": [
    {
     "name": "stdout",
     "output_type": "stream",
     "text": [
      "T-test: t-statistic = -19.297816550123354, p-value = 1.4060661308802594e-69\n"
     ]
    }
   ],
   "source": [
    "t_stat, p_value = ttest_ind(male_survival, female_survival, nan_policy='omit')\n",
    "print(f\"T-test: t-statistic = {t_stat}, p-value = {p_value}\")"
   ]
  },
  {
   "cell_type": "code",
   "execution_count": 6,
   "id": "86d904ec",
   "metadata": {},
   "outputs": [
    {
     "name": "stdout",
     "output_type": "stream",
     "text": [
      "Chi-Square Test: chi2 = 102.88898875696056, p-value = 4.549251711298793e-23\n"
     ]
    }
   ],
   "source": [
    "contingency_table = pd.crosstab(data['Pclass'], data['Survived'])\n",
    "chi2, p, dof, expected = chi2_contingency(contingency_table)\n",
    "print(f\"Chi-Square Test: chi2 = {chi2}, p-value = {p}\")"
   ]
  },
  {
   "cell_type": "code",
   "execution_count": 7,
   "id": "179ab101",
   "metadata": {},
   "outputs": [
    {
     "name": "stdout",
     "output_type": "stream",
     "text": [
      "ANOVA: F-statistic = 3.1025960475531194, p-value = 0.02609995528496134\n"
     ]
    }
   ],
   "source": [
    "data['AgeGroup'] = pd.cut(data['Age'], bins=[0, 18, 35, 60, 100], labels=['Child', 'Youth', 'Adult', 'Senior'])\n",
    "anova_result = f_oneway(\n",
    "    data[data['AgeGroup'] == 'Child']['Survived'],\n",
    "    data[data['AgeGroup'] == 'Youth']['Survived'],\n",
    "    data[data['AgeGroup'] == 'Adult']['Survived'],\n",
    "    data[data['AgeGroup'] == 'Senior']['Survived']\n",
    ")\n",
    "print(f\"ANOVA: F-statistic = {anova_result.statistic}, p-value = {anova_result.pvalue}\")"
   ]
  },
  {
   "cell_type": "code",
   "execution_count": null,
   "id": "f41b43f2",
   "metadata": {},
   "outputs": [],
   "source": []
  }
 ],
 "metadata": {
  "kernelspec": {
   "display_name": "Python 3 (ipykernel)",
   "language": "python",
   "name": "python3"
  },
  "language_info": {
   "codemirror_mode": {
    "name": "ipython",
    "version": 3
   },
   "file_extension": ".py",
   "mimetype": "text/x-python",
   "name": "python",
   "nbconvert_exporter": "python",
   "pygments_lexer": "ipython3",
   "version": "3.10.9"
  }
 },
 "nbformat": 4,
 "nbformat_minor": 5
}
