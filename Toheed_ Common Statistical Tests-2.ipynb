{
 "cells": [
  {
   "cell_type": "code",
   "execution_count": 1,
   "id": "4b1dd391",
   "metadata": {},
   "outputs": [],
   "source": [
    "import pandas as pd\n",
    "from scipy.stats import ttest_ind, chi2_contingency, pearsonr, shapiro\n",
    "from statsmodels.stats.anova import AnovaRM"
   ]
  },
  {
   "cell_type": "code",
   "execution_count": 2,
   "id": "2ba21de1",
   "metadata": {},
   "outputs": [],
   "source": [
    "data = pd.read_csv('Marketing-campaign-dataset.csv') "
   ]
  },
  {
   "cell_type": "code",
   "execution_count": 3,
   "id": "ee8d49a7",
   "metadata": {},
   "outputs": [
    {
     "data": {
      "text/html": [
       "<div>\n",
       "<style scoped>\n",
       "    .dataframe tbody tr th:only-of-type {\n",
       "        vertical-align: middle;\n",
       "    }\n",
       "\n",
       "    .dataframe tbody tr th {\n",
       "        vertical-align: top;\n",
       "    }\n",
       "\n",
       "    .dataframe thead th {\n",
       "        text-align: right;\n",
       "    }\n",
       "</style>\n",
       "<table border=\"1\" class=\"dataframe\">\n",
       "  <thead>\n",
       "    <tr style=\"text-align: right;\">\n",
       "      <th></th>\n",
       "      <th>campaign_item_id</th>\n",
       "      <th>no_of_days</th>\n",
       "      <th>time</th>\n",
       "      <th>ext_service_id</th>\n",
       "      <th>ext_service_name</th>\n",
       "      <th>creative_id</th>\n",
       "      <th>creative_width</th>\n",
       "      <th>creative_height</th>\n",
       "      <th>search_tags</th>\n",
       "      <th>template_id</th>\n",
       "      <th>...</th>\n",
       "      <th>exchange_rate</th>\n",
       "      <th>media_cost_usd</th>\n",
       "      <th>position_in_content</th>\n",
       "      <th>unique_reach</th>\n",
       "      <th>total_reach</th>\n",
       "      <th>search_tag_cat</th>\n",
       "      <th>cmi_currency_code</th>\n",
       "      <th>timezone</th>\n",
       "      <th>weekday_cat</th>\n",
       "      <th>keywords</th>\n",
       "    </tr>\n",
       "  </thead>\n",
       "  <tbody>\n",
       "    <tr>\n",
       "      <th>0</th>\n",
       "      <td>2733</td>\n",
       "      <td>7</td>\n",
       "      <td>2022-05-01</td>\n",
       "      <td>128</td>\n",
       "      <td>Facebook Ads</td>\n",
       "      <td>1000</td>\n",
       "      <td>300.0</td>\n",
       "      <td>250.0</td>\n",
       "      <td>#The Power of X</td>\n",
       "      <td>90.0</td>\n",
       "      <td>...</td>\n",
       "      <td>1</td>\n",
       "      <td>14.058514</td>\n",
       "      <td>NaN</td>\n",
       "      <td>NaN</td>\n",
       "      <td>NaN</td>\n",
       "      <td>Others</td>\n",
       "      <td>SGD</td>\n",
       "      <td>Asia/Singapore</td>\n",
       "      <td>week_end</td>\n",
       "      <td>delicate bracelets</td>\n",
       "    </tr>\n",
       "    <tr>\n",
       "      <th>1</th>\n",
       "      <td>2733</td>\n",
       "      <td>8</td>\n",
       "      <td>2022-05-02</td>\n",
       "      <td>16</td>\n",
       "      <td>DV360</td>\n",
       "      <td>1000</td>\n",
       "      <td>300.0</td>\n",
       "      <td>250.0</td>\n",
       "      <td>#Be Bold. Be X</td>\n",
       "      <td>90.0</td>\n",
       "      <td>...</td>\n",
       "      <td>1</td>\n",
       "      <td>99.633496</td>\n",
       "      <td>NaN</td>\n",
       "      <td>NaN</td>\n",
       "      <td>NaN</td>\n",
       "      <td>Others</td>\n",
       "      <td>SGD</td>\n",
       "      <td>Asia/Singapore</td>\n",
       "      <td>week_day</td>\n",
       "      <td>summer jewelry</td>\n",
       "    </tr>\n",
       "    <tr>\n",
       "      <th>2</th>\n",
       "      <td>2733</td>\n",
       "      <td>9</td>\n",
       "      <td>2022-05-03</td>\n",
       "      <td>128</td>\n",
       "      <td>Facebook Ads</td>\n",
       "      <td>1000</td>\n",
       "      <td>300.0</td>\n",
       "      <td>250.0</td>\n",
       "      <td>#Embrace Your Individuality with X</td>\n",
       "      <td>90.0</td>\n",
       "      <td>...</td>\n",
       "      <td>1</td>\n",
       "      <td>109.419677</td>\n",
       "      <td>NaN</td>\n",
       "      <td>NaN</td>\n",
       "      <td>NaN</td>\n",
       "      <td>Others</td>\n",
       "      <td>SGD</td>\n",
       "      <td>Asia/Singapore</td>\n",
       "      <td>week_day</td>\n",
       "      <td>artisan jewelry</td>\n",
       "    </tr>\n",
       "    <tr>\n",
       "      <th>3</th>\n",
       "      <td>2733</td>\n",
       "      <td>10</td>\n",
       "      <td>2022-05-04</td>\n",
       "      <td>128</td>\n",
       "      <td>Facebook Ads</td>\n",
       "      <td>1000</td>\n",
       "      <td>300.0</td>\n",
       "      <td>250.0</td>\n",
       "      <td>#Be Bold. Be X</td>\n",
       "      <td>90.0</td>\n",
       "      <td>...</td>\n",
       "      <td>1</td>\n",
       "      <td>115.209499</td>\n",
       "      <td>NaN</td>\n",
       "      <td>NaN</td>\n",
       "      <td>NaN</td>\n",
       "      <td>Others</td>\n",
       "      <td>SGD</td>\n",
       "      <td>Asia/Singapore</td>\n",
       "      <td>week_day</td>\n",
       "      <td>layered bracelets</td>\n",
       "    </tr>\n",
       "    <tr>\n",
       "      <th>4</th>\n",
       "      <td>2733</td>\n",
       "      <td>11</td>\n",
       "      <td>2022-05-05</td>\n",
       "      <td>4</td>\n",
       "      <td>Google Ads</td>\n",
       "      <td>1000</td>\n",
       "      <td>300.0</td>\n",
       "      <td>250.0</td>\n",
       "      <td>#Be Bold. Be X</td>\n",
       "      <td>90.0</td>\n",
       "      <td>...</td>\n",
       "      <td>1</td>\n",
       "      <td>66.990104</td>\n",
       "      <td>NaN</td>\n",
       "      <td>NaN</td>\n",
       "      <td>NaN</td>\n",
       "      <td>Others</td>\n",
       "      <td>SGD</td>\n",
       "      <td>Asia/Singapore</td>\n",
       "      <td>week_day</td>\n",
       "      <td>minimalist jewelry</td>\n",
       "    </tr>\n",
       "  </tbody>\n",
       "</table>\n",
       "<p>5 rows × 35 columns</p>\n",
       "</div>"
      ],
      "text/plain": [
       "   campaign_item_id  no_of_days        time  ext_service_id ext_service_name  \\\n",
       "0              2733           7  2022-05-01             128     Facebook Ads   \n",
       "1              2733           8  2022-05-02              16            DV360   \n",
       "2              2733           9  2022-05-03             128     Facebook Ads   \n",
       "3              2733          10  2022-05-04             128     Facebook Ads   \n",
       "4              2733          11  2022-05-05               4       Google Ads   \n",
       "\n",
       "   creative_id  creative_width  creative_height  \\\n",
       "0         1000           300.0            250.0   \n",
       "1         1000           300.0            250.0   \n",
       "2         1000           300.0            250.0   \n",
       "3         1000           300.0            250.0   \n",
       "4         1000           300.0            250.0   \n",
       "\n",
       "                          search_tags  template_id  ... exchange_rate  \\\n",
       "0                     #The Power of X         90.0  ...             1   \n",
       "1                      #Be Bold. Be X         90.0  ...             1   \n",
       "2  #Embrace Your Individuality with X         90.0  ...             1   \n",
       "3                      #Be Bold. Be X         90.0  ...             1   \n",
       "4                      #Be Bold. Be X         90.0  ...             1   \n",
       "\n",
       "   media_cost_usd position_in_content  unique_reach  total_reach  \\\n",
       "0       14.058514                 NaN           NaN          NaN   \n",
       "1       99.633496                 NaN           NaN          NaN   \n",
       "2      109.419677                 NaN           NaN          NaN   \n",
       "3      115.209499                 NaN           NaN          NaN   \n",
       "4       66.990104                 NaN           NaN          NaN   \n",
       "\n",
       "  search_tag_cat  cmi_currency_code        timezone  weekday_cat  \\\n",
       "0         Others                SGD  Asia/Singapore     week_end   \n",
       "1         Others                SGD  Asia/Singapore     week_day   \n",
       "2         Others                SGD  Asia/Singapore     week_day   \n",
       "3         Others                SGD  Asia/Singapore     week_day   \n",
       "4         Others                SGD  Asia/Singapore     week_day   \n",
       "\n",
       "             keywords  \n",
       "0  delicate bracelets  \n",
       "1      summer jewelry  \n",
       "2     artisan jewelry  \n",
       "3   layered bracelets  \n",
       "4  minimalist jewelry  \n",
       "\n",
       "[5 rows x 35 columns]"
      ]
     },
     "execution_count": 3,
     "metadata": {},
     "output_type": "execute_result"
    }
   ],
   "source": [
    "data.head()"
   ]
  },
  {
   "cell_type": "code",
   "execution_count": 4,
   "id": "e0c0aca9",
   "metadata": {},
   "outputs": [],
   "source": [
    "facebook_impressions = data[data['ext_service_name'] == 'Facebook Ads']['impressions']\n",
    "google_impressions = data[data['ext_service_name'] == 'Google Ads']['impressions']"
   ]
  },
  {
   "cell_type": "code",
   "execution_count": 5,
   "id": "06b9411a",
   "metadata": {},
   "outputs": [
    {
     "name": "stdout",
     "output_type": "stream",
     "text": [
      "T-Test Results\n",
      "T-Statistic: 1.258723441547187, P-Value: 0.2081363076565691\n",
      "\n"
     ]
    }
   ],
   "source": [
    "t_stat, p_value_ttest = ttest_ind(facebook_impressions, google_impressions, nan_policy='omit')\n",
    "print(\"T-Test Results\")\n",
    "print(f\"T-Statistic: {t_stat}, P-Value: {p_value_ttest}\\n\")"
   ]
  },
  {
   "cell_type": "code",
   "execution_count": 6,
   "id": "dd347c03",
   "metadata": {},
   "outputs": [
    {
     "name": "stdout",
     "output_type": "stream",
     "text": [
      "Chi-Square Test Results\n",
      "Chi-Square Statistic: 4.341310046072594, P-Value: 0.3617807822013186\n",
      "\n"
     ]
    }
   ],
   "source": [
    "contingency_table = pd.crosstab(data['weekday_cat'], data['channel_name'])\n",
    "chi2_stat, p_value_chi2, _, _ = chi2_contingency(contingency_table)\n",
    "print(\"Chi-Square Test Results\")\n",
    "print(f\"Chi-Square Statistic: {chi2_stat}, P-Value: {p_value_chi2}\\n\")"
   ]
  },
  {
   "cell_type": "code",
   "execution_count": 7,
   "id": "582c2c1d",
   "metadata": {},
   "outputs": [],
   "source": [
    "impressions = data['impressions']\n",
    "clicks = data['clicks']\n"
   ]
  },
  {
   "cell_type": "code",
   "execution_count": 8,
   "id": "1f7ab648",
   "metadata": {},
   "outputs": [
    {
     "name": "stdout",
     "output_type": "stream",
     "text": [
      "Pearson Correlation Results\n",
      "Correlation Coefficient: 0.6617286321673141, P-Value: 0.0\n",
      "\n"
     ]
    }
   ],
   "source": [
    "corr_coeff, p_value_corr = pearsonr(impressions, clicks)\n",
    "print(\"Pearson Correlation Results\")\n",
    "print(f\"Correlation Coefficient: {corr_coeff}, P-Value: {p_value_corr}\\n\")"
   ]
  },
  {
   "cell_type": "code",
   "execution_count": 11,
   "id": "35370cff",
   "metadata": {},
   "outputs": [
    {
     "name": "stdout",
     "output_type": "stream",
     "text": [
      "Shapiro-Wilk Test Results\n",
      "Shapiro Statistic: 0.20306581258773804, P-Value: 0.0\n",
      "\n"
     ]
    },
    {
     "name": "stderr",
     "output_type": "stream",
     "text": [
      "D:\\Anaconda\\lib\\site-packages\\scipy\\stats\\_morestats.py:1816: UserWarning: p-value may not be accurate for N > 5000.\n",
      "  warnings.warn(\"p-value may not be accurate for N > 5000.\")\n"
     ]
    }
   ],
   "source": [
    "shapiro_stat, p_value_shapiro = shapiro(impressions)\n",
    "print(\"Shapiro-Wilk Test Results\")\n",
    "print(f\"Shapiro Statistic: {shapiro_stat}, P-Value: {p_value_shapiro}\\n\")"
   ]
  },
  {
   "cell_type": "code",
   "execution_count": null,
   "id": "30ecea6f",
   "metadata": {},
   "outputs": [],
   "source": []
  }
 ],
 "metadata": {
  "kernelspec": {
   "display_name": "Python 3 (ipykernel)",
   "language": "python",
   "name": "python3"
  },
  "language_info": {
   "codemirror_mode": {
    "name": "ipython",
    "version": 3
   },
   "file_extension": ".py",
   "mimetype": "text/x-python",
   "name": "python",
   "nbconvert_exporter": "python",
   "pygments_lexer": "ipython3",
   "version": "3.10.9"
  }
 },
 "nbformat": 4,
 "nbformat_minor": 5
}
