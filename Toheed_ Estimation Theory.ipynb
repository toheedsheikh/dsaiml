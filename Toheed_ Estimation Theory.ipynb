{
 "cells": [
  {
   "cell_type": "code",
   "execution_count": 4,
   "id": "323be1c7",
   "metadata": {},
   "outputs": [],
   "source": [
    "import pandas as pd\n",
    "import numpy as np\n",
    "from scipy.stats import sem, t\n",
    "\n",
    "\n",
    "data = pd.read_csv('100-Sales-Records.csv')"
   ]
  },
  {
   "cell_type": "code",
   "execution_count": 5,
   "id": "1ec0c095",
   "metadata": {},
   "outputs": [
    {
     "data": {
      "text/html": [
       "<div>\n",
       "<style scoped>\n",
       "    .dataframe tbody tr th:only-of-type {\n",
       "        vertical-align: middle;\n",
       "    }\n",
       "\n",
       "    .dataframe tbody tr th {\n",
       "        vertical-align: top;\n",
       "    }\n",
       "\n",
       "    .dataframe thead th {\n",
       "        text-align: right;\n",
       "    }\n",
       "</style>\n",
       "<table border=\"1\" class=\"dataframe\">\n",
       "  <thead>\n",
       "    <tr style=\"text-align: right;\">\n",
       "      <th></th>\n",
       "      <th>Region</th>\n",
       "      <th>Country</th>\n",
       "      <th>Item Type</th>\n",
       "      <th>Sales Channel</th>\n",
       "      <th>Order Priority</th>\n",
       "      <th>Order Date</th>\n",
       "      <th>Order ID</th>\n",
       "      <th>Ship Date</th>\n",
       "      <th>Units Sold</th>\n",
       "      <th>Unit Price</th>\n",
       "      <th>Unit Cost</th>\n",
       "      <th>Total Revenue</th>\n",
       "      <th>Total Cost</th>\n",
       "      <th>Total Profit</th>\n",
       "    </tr>\n",
       "  </thead>\n",
       "  <tbody>\n",
       "    <tr>\n",
       "      <th>0</th>\n",
       "      <td>Australia and Oceania</td>\n",
       "      <td>Tuvalu</td>\n",
       "      <td>Baby Food</td>\n",
       "      <td>Offline</td>\n",
       "      <td>H</td>\n",
       "      <td>5/28/2010</td>\n",
       "      <td>669165933</td>\n",
       "      <td>6/27/2010</td>\n",
       "      <td>9925</td>\n",
       "      <td>255.28</td>\n",
       "      <td>159.42</td>\n",
       "      <td>2533654.00</td>\n",
       "      <td>1582243.50</td>\n",
       "      <td>951410.50</td>\n",
       "    </tr>\n",
       "    <tr>\n",
       "      <th>1</th>\n",
       "      <td>Central America and the Caribbean</td>\n",
       "      <td>Grenada</td>\n",
       "      <td>Cereal</td>\n",
       "      <td>Online</td>\n",
       "      <td>C</td>\n",
       "      <td>8/22/2012</td>\n",
       "      <td>963881480</td>\n",
       "      <td>9/15/2012</td>\n",
       "      <td>2804</td>\n",
       "      <td>205.70</td>\n",
       "      <td>117.11</td>\n",
       "      <td>576782.80</td>\n",
       "      <td>328376.44</td>\n",
       "      <td>248406.36</td>\n",
       "    </tr>\n",
       "    <tr>\n",
       "      <th>2</th>\n",
       "      <td>Europe</td>\n",
       "      <td>Russia</td>\n",
       "      <td>Office Supplies</td>\n",
       "      <td>Offline</td>\n",
       "      <td>L</td>\n",
       "      <td>5/2/2014</td>\n",
       "      <td>341417157</td>\n",
       "      <td>5/8/2014</td>\n",
       "      <td>1779</td>\n",
       "      <td>651.21</td>\n",
       "      <td>524.96</td>\n",
       "      <td>1158502.59</td>\n",
       "      <td>933903.84</td>\n",
       "      <td>224598.75</td>\n",
       "    </tr>\n",
       "    <tr>\n",
       "      <th>3</th>\n",
       "      <td>Sub-Saharan Africa</td>\n",
       "      <td>Sao Tome and Principe</td>\n",
       "      <td>Fruits</td>\n",
       "      <td>Online</td>\n",
       "      <td>C</td>\n",
       "      <td>6/20/2014</td>\n",
       "      <td>514321792</td>\n",
       "      <td>7/5/2014</td>\n",
       "      <td>8102</td>\n",
       "      <td>9.33</td>\n",
       "      <td>6.92</td>\n",
       "      <td>75591.66</td>\n",
       "      <td>56065.84</td>\n",
       "      <td>19525.82</td>\n",
       "    </tr>\n",
       "    <tr>\n",
       "      <th>4</th>\n",
       "      <td>Sub-Saharan Africa</td>\n",
       "      <td>Rwanda</td>\n",
       "      <td>Office Supplies</td>\n",
       "      <td>Offline</td>\n",
       "      <td>L</td>\n",
       "      <td>2/1/2013</td>\n",
       "      <td>115456712</td>\n",
       "      <td>2/6/2013</td>\n",
       "      <td>5062</td>\n",
       "      <td>651.21</td>\n",
       "      <td>524.96</td>\n",
       "      <td>3296425.02</td>\n",
       "      <td>2657347.52</td>\n",
       "      <td>639077.50</td>\n",
       "    </tr>\n",
       "  </tbody>\n",
       "</table>\n",
       "</div>"
      ],
      "text/plain": [
       "                              Region                Country        Item Type  \\\n",
       "0              Australia and Oceania                 Tuvalu        Baby Food   \n",
       "1  Central America and the Caribbean                Grenada           Cereal   \n",
       "2                             Europe                 Russia  Office Supplies   \n",
       "3                 Sub-Saharan Africa  Sao Tome and Principe           Fruits   \n",
       "4                 Sub-Saharan Africa                 Rwanda  Office Supplies   \n",
       "\n",
       "  Sales Channel Order Priority Order Date   Order ID  Ship Date  Units Sold  \\\n",
       "0       Offline              H  5/28/2010  669165933  6/27/2010        9925   \n",
       "1        Online              C  8/22/2012  963881480  9/15/2012        2804   \n",
       "2       Offline              L   5/2/2014  341417157   5/8/2014        1779   \n",
       "3        Online              C  6/20/2014  514321792   7/5/2014        8102   \n",
       "4       Offline              L   2/1/2013  115456712   2/6/2013        5062   \n",
       "\n",
       "   Unit Price  Unit Cost  Total Revenue  Total Cost  Total Profit  \n",
       "0      255.28     159.42     2533654.00  1582243.50     951410.50  \n",
       "1      205.70     117.11      576782.80   328376.44     248406.36  \n",
       "2      651.21     524.96     1158502.59   933903.84     224598.75  \n",
       "3        9.33       6.92       75591.66    56065.84      19525.82  \n",
       "4      651.21     524.96     3296425.02  2657347.52     639077.50  "
      ]
     },
     "execution_count": 5,
     "metadata": {},
     "output_type": "execute_result"
    }
   ],
   "source": [
    "data.head()"
   ]
  },
  {
   "cell_type": "code",
   "execution_count": 9,
   "id": "ff05f05f",
   "metadata": {},
   "outputs": [
    {
     "name": "stdout",
     "output_type": "stream",
     "text": [
      "Mean Sales: 5128.71, Standard Deviation: 2794.4845616956904\n"
     ]
    }
   ],
   "source": [
    "mean_sales = data['Units Sold'].mean()\n",
    "std_sales = data['Units Sold'].std()\n",
    "print(f\"Mean Sales: {mean_sales}, Standard Deviation: {std_sales}\")"
   ]
  },
  {
   "cell_type": "code",
   "execution_count": 10,
   "id": "790c8c26",
   "metadata": {},
   "outputs": [
    {
     "name": "stdout",
     "output_type": "stream",
     "text": [
      "95% Confidence Interval: (4574.22363619541, 5683.19636380459)\n"
     ]
    }
   ],
   "source": [
    "confidence = 0.95\n",
    "n = len(data['Units Sold'])\n",
    "margin_error = sem(data['Units Sold']) * t.ppf((1 + confidence) / 2., n-1)\n",
    "ci = (mean_sales - margin_error, mean_sales + margin_error)\n",
    "print(f\"95% Confidence Interval: {ci}\")"
   ]
  },
  {
   "cell_type": "code",
   "execution_count": 11,
   "id": "516cbca5",
   "metadata": {},
   "outputs": [
    {
     "name": "stdout",
     "output_type": "stream",
     "text": [
      "Bootstrap Confidence Interval: [4613.37325 5719.0945 ]\n"
     ]
    }
   ],
   "source": [
    "bootstrap_means = [data['Units Sold'].sample(frac=1, replace=True).mean() for _ in range(1000)]\n",
    "bootstrap_ci = np.percentile(bootstrap_means, [2.5, 97.5])\n",
    "print(f\"Bootstrap Confidence Interval: {bootstrap_ci}\")"
   ]
  },
  {
   "cell_type": "code",
   "execution_count": null,
   "id": "e741e819",
   "metadata": {},
   "outputs": [],
   "source": []
  }
 ],
 "metadata": {
  "kernelspec": {
   "display_name": "Python 3 (ipykernel)",
   "language": "python",
   "name": "python3"
  },
  "language_info": {
   "codemirror_mode": {
    "name": "ipython",
    "version": 3
   },
   "file_extension": ".py",
   "mimetype": "text/x-python",
   "name": "python",
   "nbconvert_exporter": "python",
   "pygments_lexer": "ipython3",
   "version": "3.10.9"
  }
 },
 "nbformat": 4,
 "nbformat_minor": 5
}
